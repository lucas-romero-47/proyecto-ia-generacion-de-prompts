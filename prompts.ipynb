{
 "cells": [
  {
   "cell_type": "code",
   "execution_count": null,
   "id": "d62e1ff5-9e6c-4463-a174-d9c9572c8f0a",
   "metadata": {},
   "outputs": [],
   "source": [
    "Modelo de texto a texto"
   ]
  },
  {
   "cell_type": "code",
   "execution_count": null,
   "id": "88125f9d-99a5-4cad-ac45-1c1322febe02",
   "metadata": {},
   "outputs": [],
   "source": [
    "Descripción corta con gancho + precio + CTA"
   ]
  },
  {
   "cell_type": "code",
   "execution_count": null,
   "id": "6ed051b2-12a2-41bf-aa0a-ee542e4cc420",
   "metadata": {},
   "outputs": [],
   "source": [
    "\"Actúa como CM. Una sola descripción breve y directa para redes. Incluye gancho inicial, beneficio clave, precio, y CTA con verbo. Tono juvenil. Variables: {producto}, {beneficio}, {precio}, {plataforma}, {emoji_opcional}\""
   ]
  },
  {
   "cell_type": "code",
   "execution_count": null,
   "id": "4e2a91c1-4314-4237-92d4-4a1261e01f32",
   "metadata": {},
   "outputs": [],
   "source": [
    "Copy estilo meme (setup → remate) + CTA"
   ]
  },
  {
   "cell_type": "code",
   "execution_count": null,
   "id": "877cc328-4fb2-47b4-b231-2dad0f23e3d5",
   "metadata": {},
   "outputs": [],
   "source": [
    "\"Actúa como CM. Formato “setup – remate” en 2 líneas. Línea 1: situación escolar relatable. Línea 2: remate con el producto + precio. Cierra con CTA corto. Variables: {situacion}, {producto}, {precio}, {CTA_corto}. One‑shot (ejemplo)\""
   ]
  },
  {
   "cell_type": "code",
   "execution_count": null,
   "id": "2c5e1aee-3a46-4a8e-8829-42f5cda19ae7",
   "metadata": {},
   "outputs": [],
   "source": [
    "Carrusel 3 slides (beneficio‑prueba‑cierre)"
   ]
  },
  {
   "cell_type": "code",
   "execution_count": null,
   "id": "91e79bc3-285c-479c-90e7-569a7ebc4080",
   "metadata": {},
   "outputs": [],
   "source": [
    "\"Actúa como CM. Escribe 3 copys breves, uno por slide: S1 beneficio, S2 evidencia/prueba social, S3 cierre con precio + CTA. Variables: {producto}, {beneficio}, {evidencia}, {precio}, {CTA}\""
   ]
  },
  {
   "cell_type": "code",
   "execution_count": null,
   "id": "3b5615b2-34dd-452b-837f-95f581680d3e",
   "metadata": {},
   "outputs": [],
   "source": [
    "Modelo de texto a imagen"
   ]
  },
  {
   "cell_type": "code",
   "execution_count": null,
   "id": "7b4ae6c5-5897-4f62-adbe-6896a8cd2a0d",
   "metadata": {},
   "outputs": [],
   "source": [
    "Story 9:16 “2x1 en el recreo” (flyer estático)"
   ]
  },
  {
   "cell_type": "code",
   "execution_count": null,
   "id": "991a16aa-9690-4f1b-8d5f-7d9342404696",
   "metadata": {},
   "outputs": [],
   "source": [
    "\"Actúa como diseñador. Entrega prompt visual detallado para un generador de imágenes. Enfocado en 9:16, tipografía grande, contraste alto, estética juvenil. Variables: {promo}, {producto}, {colores}, {marca_bebida}, {detalles_legales}\""
   ]
  },
  {
   "cell_type": "code",
   "execution_count": null,
   "id": "e44eeae3-92c0-4a33-8448-1455ff266676",
   "metadata": {},
   "outputs": [],
   "source": [
    "Carrusel 1080×1080 (3 láminas)"
   ]
  },
  {
   "cell_type": "code",
   "execution_count": null,
   "id": "371b6877-693f-452d-97b9-126aabf85d12",
   "metadata": {},
   "outputs": [],
   "source": [
    "\"Actúa como diseñador. Redacta prompt para 3 imágenes coordinadas: portada, detalle, cierre con precio + CTA. Mantén misma paleta e íconos. Variables: {producto}, {paleta}, {iconografia}, {precio}, {CTA}\""
   ]
  },
  {
   "cell_type": "code",
   "execution_count": null,
   "id": "283c57b2-7cc0-483a-8240-43e3f0940abc",
   "metadata": {},
   "outputs": [],
   "source": [
    "Story “Happy Hour del Kiosco” (conteo + tipografía hand‑drawn)"
   ]
  },
  {
   "cell_type": "code",
   "execution_count": null,
   "id": "3b002b6a-7482-43db-b9cd-f497762bbc07",
   "metadata": {},
   "outputs": [],
   "source": [
    "\"Actúa como diseñador. Prompt para story 9:16 con cuenta regresiva y tipografía manuscrita. Enfatizar horario y oferta. Variables: {horario}, {oferta}, {paleta}, {textura}, {sticker}. One‑shot (brief‑prompt)\""
   ]
  },
  {
   "cell_type": "code",
   "execution_count": null,
   "id": "d12a3ae7-56f0-43ea-a4d2-c241b3382ca1",
   "metadata": {},
   "outputs": [],
   "source": [
    "Modelo de texto a texto"
   ]
  },
  {
   "cell_type": "code",
   "execution_count": null,
   "id": "b1724b73-c0e8-46c1-95cb-28e2de787387",
   "metadata": {},
   "outputs": [],
   "source": [
    "\"{emoji_opcional} ¿Te lo vas a perder? {producto} que te salva el recreo: {beneficio}. Solo {precio}. Entrá a {plataforma} y comprá ahora.\""
   ]
  },
  {
   "cell_type": "code",
   "execution_count": null,
   "id": "e9d42c65-32d2-4b42-964c-ba4a60b5b445",
   "metadata": {},
   "outputs": [],
   "source": [
    "\"Suena el timbre y tu panza ruge.\"\n",
    "\"Pancho + Pepsi por $2700. Pedilo ya.\""
   ]
  },
  {
   "cell_type": "code",
   "execution_count": null,
   "id": "265d04b7-d508-47ff-bbdb-acea6e7ed80c",
   "metadata": {},
   "outputs": [],
   "source": [
    "\"S1: {producto} — {beneficio}.\"\n",
    "\"S2: Prueba social: {evidencia}.\"\n",
    "\"S3: Solo {precio}. {CTA}.\""
   ]
  },
  {
   "cell_type": "code",
   "execution_count": null,
   "id": "dbeb733f-1ee1-4159-9ea2-396ea4417d57",
   "metadata": {},
   "outputs": [],
   "source": [
    "Modelo de texto a imagen"
   ]
  },
  {
   "cell_type": "code",
   "execution_count": null,
   "id": "586f5b89-0746-4187-abec-84171e1ba9a2",
   "metadata": {},
   "outputs": [],
   "source": [
    "\"Formato 9:16 vertical, fondo {colores} de alto contraste; tipografía XL bold para titular “{promo}” arriba; sub-titular mediano con “{producto}” y logo de {marca_bebida}; estética juvenil con stickers, doodles, grain suave y destellos.\"\n",
    "\"Producto centrado en primer plano con sombra suave; composición en capas, diagonales dinámicas; botón/placa de precio destacado.\"\n",
    "\"Usar 2–3 colores principales + 1 acento; bordes redondeados; iconografía simple.\"\n",
    "\"Texto legal “{detalles_legales}” en la parte inferior en tipografía pequeña y legible.\"\n",
    "\"Evitar saturación, fondos complejos y tipografías cursivas; enfoque nítido, alta resolución.\""
   ]
  },
  {
   "cell_type": "code",
   "execution_count": null,
   "id": "96fdd4a4-a38e-44ab-86a0-71e10697e30e",
   "metadata": {},
   "outputs": [],
   "source": [
    "\"Serie 9:16 coordinada; misma {paleta} y {iconografia}; tipografía bold y contraste alto, estética juvenil.\"\n",
    "\"Portada: {producto} en héroe, fondo degradado de {paleta}, título XL, {iconografia} flotando.\"\n",
    "\"Detalle: close-up del {producto}, callouts minimal, patrones suaves con {iconografia}.\"\n",
    "\"Cierre: placa de precio grande “{precio}”, botón CTA “{CTA}”, repetir {iconografia} y marco consistente.\""
   ]
  },
  {
   "cell_type": "code",
   "execution_count": null,
   "id": "345b27a6-208e-44cd-8720-cf011274d03b",
   "metadata": {},
   "outputs": [],
   "source": [
    "\"Story 9:16 vertical; {paleta} en alto contraste; fondo con {textura}.\"\n",
    "\"Titular manuscrito XL “Cuenta regresiva”; timer grande junto al título resaltando {horario}.\"\n",
    "\"Subtítulo claro con {oferta}; jerarquía tipográfica fuerte.\"\n",
    "\"Usar {sticker} para urgencia; íconos mínimos y bordes redondeados.\"\n",
    "\"Espacio negativo limpio; foco en tiempo y oferta; exportar alta resolución.\""
   ]
  }
 ],
 "metadata": {
  "kernelspec": {
   "display_name": "Python 3 (ipykernel)",
   "language": "python",
   "name": "python3"
  },
  "language_info": {
   "codemirror_mode": {
    "name": "ipython",
    "version": 3
   },
   "file_extension": ".py",
   "mimetype": "text/x-python",
   "name": "python",
   "nbconvert_exporter": "python",
   "pygments_lexer": "ipython3",
   "version": "3.13.5"
  }
 },
 "nbformat": 4,
 "nbformat_minor": 5
}
